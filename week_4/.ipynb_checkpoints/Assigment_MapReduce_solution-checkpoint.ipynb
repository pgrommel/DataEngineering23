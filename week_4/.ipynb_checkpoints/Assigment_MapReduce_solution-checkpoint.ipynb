{
 "cells": [
  {
   "cell_type": "markdown",
   "metadata": {},
   "source": [
    "# Ex 1: MapReduce with Python Functional Programming"
   ]
  },
  {
   "cell_type": "markdown",
   "metadata": {},
   "source": [
    "#### Python *map* function\n",
    "Python has e built in *map* function -> [see python docs](https://docs.python.org/3/library/functions.html#map)\n",
    "* ``map(function, iterable object)`` applies a function to every member of the object (=data structure)\n",
    "* iterable objects are e.g. lists, dicts, arrays, ... but also custom data structures (see [here](https://thispointer.com/python-how-to-make-a-class-iterable-create-iterator-class-for-it/))"
   ]
  },
  {
   "cell_type": "code",
   "execution_count": 44,
   "metadata": {},
   "outputs": [
    {
     "name": "stdout",
     "output_type": "stream",
     "text": [
      "[1, 2, 3, 4]\n",
      "[2, 3, 4, 5]\n"
     ]
    }
   ],
   "source": [
    "#example\n",
    "def Plus1(a):\n",
    "    return a+1\n",
    "\n",
    "A = [1,2,3,4]\n",
    "print(A)\n",
    "B = list(map(Plus1,A)) #need to cast map output to list\n",
    "print(B)"
   ]
  },
  {
   "cell_type": "code",
   "execution_count": 45,
   "metadata": {},
   "outputs": [
    {
     "name": "stdout",
     "output_type": "stream",
     "text": [
      "[1, 2, 3, 4]\n",
      "[3, 4, 5, 6]\n",
      "[2, 3, 6, 7]\n"
     ]
    }
   ],
   "source": [
    "#example 2 - map with an function that takes arguments\n",
    "from functools import partial\n",
    "\n",
    "def PlusX(a,x):\n",
    "    return a+x\n",
    "\n",
    "\n",
    "A = [1,2,3,4]\n",
    "print(A)\n",
    "B = list(map(partial(PlusX,x=2),A)) #use partial to fix parameters \n",
    "print(B)\n",
    "\n",
    "C = [1,1,3,3]\n",
    "D = list(map(PlusX,A,C)) #or input multiple iterable objects\n",
    "print(D)"
   ]
  },
  {
   "cell_type": "code",
   "execution_count": 46,
   "metadata": {},
   "outputs": [
    {
     "name": "stdout",
     "output_type": "stream",
     "text": [
      "[2, 3, 4, 5]\n"
     ]
    }
   ],
   "source": [
    "#example 3 - map with lmbda functions\n",
    "A = [1,2,3,4]\n",
    "B = list(map(lambda x:x+1,A ))#implement function directly with lambda\n",
    "print(B)"
   ]
  },
  {
   "cell_type": "code",
   "execution_count": 47,
   "metadata": {},
   "outputs": [
    {
     "data": {
      "text/plain": [
       "array([[18.97100853, 15.0597456 , 17.17665367,  4.3852584 ,  1.82932403,\n",
       "        15.36188057, 15.03500117, 10.91837007, 13.75683632,  1.00073068],\n",
       "       [18.42004023,  0.39659544, 10.6809641 , 14.57839007,  6.31966387,\n",
       "         7.27956361, 13.96344942,  1.56395129, 15.94915248,  8.03197482],\n",
       "       [16.99840249,  0.63472358, 17.89391529,  5.19533869,  5.6451007 ,\n",
       "        16.96449068,  8.0281728 , 11.04676955,  0.9401698 ,  8.24943069],\n",
       "       [15.76784639,  3.48504554, 16.11058132,  2.31547913, 12.93849878,\n",
       "        17.32735463,  8.46971108,  7.42369521, 15.10141616, 16.48607698],\n",
       "       [ 5.8262172 ,  9.32967948,  9.93084149,  2.66390085, 11.28542734,\n",
       "        14.65762735, 11.11316973,  8.0050263 ,  3.40829068, 15.57242049],\n",
       "       [18.18758256,  3.46132239,  2.86797942, 17.99916024,  5.60418943,\n",
       "         3.01208706,  5.05278895,  3.8501769 , 16.96855947,  0.77504449],\n",
       "       [14.54055878, 13.49712698, 17.0990719 ,  6.38296487,  5.23623873,\n",
       "         6.94536424, 11.12591129,  1.32752064, 11.50032678, 12.28756735],\n",
       "       [12.69710258,  1.6804163 ,  4.38874533,  1.4476662 ,  9.48523171,\n",
       "        12.5679287 ,  4.79346591,  3.96853551,  5.77150951, 15.15515475],\n",
       "       [ 4.89557523,  6.59138079, 15.32665196, 17.57205783,  3.96321149,\n",
       "         2.46130107, 19.30644912, 19.55529162,  9.67352118,  3.49876212],\n",
       "       [18.43952924, 14.34227874, 15.1049273 ,  0.49134334, 16.13022225,\n",
       "         2.30472664, 18.05110323, 14.53797727,  7.98449777,  2.49210655]])"
      ]
     },
     "execution_count": 47,
     "metadata": {},
     "output_type": "execute_result"
    }
   ],
   "source": [
    "#example 4 - Numpy has map \"build in\"\n",
    "import numpy as np\n",
    "A = np.random.rand(10,10)*20\n",
    "A"
   ]
  },
  {
   "cell_type": "code",
   "execution_count": 48,
   "metadata": {},
   "outputs": [],
   "source": [
    "#apply function directly on each element of an array\n",
    "def isLarger10(x):\n",
    "    return x>10\n",
    "\n",
    "B = isLarger10(A)"
   ]
  },
  {
   "cell_type": "code",
   "execution_count": 49,
   "metadata": {},
   "outputs": [
    {
     "data": {
      "text/plain": [
       "array([[ True,  True,  True, False, False,  True,  True,  True,  True,\n",
       "        False],\n",
       "       [ True, False,  True,  True, False, False,  True, False,  True,\n",
       "        False],\n",
       "       [ True, False,  True, False, False,  True, False,  True, False,\n",
       "        False],\n",
       "       [ True, False,  True, False,  True,  True, False, False,  True,\n",
       "         True],\n",
       "       [False, False, False, False,  True,  True,  True, False, False,\n",
       "         True],\n",
       "       [ True, False, False,  True, False, False, False, False,  True,\n",
       "        False],\n",
       "       [ True,  True,  True, False, False, False,  True, False,  True,\n",
       "         True],\n",
       "       [ True, False, False, False, False,  True, False, False, False,\n",
       "         True],\n",
       "       [False, False,  True,  True, False, False,  True,  True, False,\n",
       "        False],\n",
       "       [ True,  True,  True, False,  True, False,  True,  True, False,\n",
       "        False]])"
      ]
     },
     "execution_count": 49,
     "metadata": {},
     "output_type": "execute_result"
    }
   ],
   "source": [
    "B"
   ]
  },
  {
   "cell_type": "markdown",
   "metadata": {},
   "source": [
    "#### *Reduce* in Python\n",
    "*functools* also provides a *reduce* function. Again, it will take a function and one ore more iterable objects as arguments. (see [API](https://docs.python.org/3/library/functools.html#functools.reduce))"
   ]
  },
  {
   "cell_type": "code",
   "execution_count": 50,
   "metadata": {},
   "outputs": [
    {
     "name": "stdout",
     "output_type": "stream",
     "text": [
      "The sum of the list elements is : 17\n",
      "The maximum element of the list is : 6\n"
     ]
    }
   ],
   "source": [
    "# importing functools for reduce() \n",
    "import functools \n",
    "  \n",
    "# initializing list \n",
    "lis = [ 1 , 3, 5, 6, 2, ] \n",
    "  \n",
    "def addIt(a,b):\n",
    "    return a+b\n",
    "\n",
    "# using reduce to compute sum of list \n",
    "print (\"The sum of the list elements is : \",end=\"\") \n",
    "print (functools.reduce(addIt,lis)) \n",
    "  \n",
    "# using reduce to compute maximum element from list \n",
    "print (\"The maximum element of the list is : \",end=\"\") \n",
    "print (functools.reduce(lambda a,b : a if a > b else b,lis)) "
   ]
  },
  {
   "cell_type": "markdown",
   "metadata": {},
   "source": [
    "#### Splitting"
   ]
  },
  {
   "cell_type": "code",
   "execution_count": 51,
   "metadata": {},
   "outputs": [
    {
     "name": "stdout",
     "output_type": "stream",
     "text": [
      "[1, 2, 3]\n",
      "[4, 5, 6]\n",
      "[7, 8, 9]\n"
     ]
    }
   ],
   "source": [
    "import more_itertools as mit\n",
    "\n",
    "A=[1,2,3,4,5,6,7,8,9]\n",
    "B=list(mit.chunked(A, 3)) #split into lists of max size 3\n",
    "\n",
    "for i in B: #iterate over the spitts \n",
    "    print(i)"
   ]
  },
  {
   "cell_type": "code",
   "execution_count": 52,
   "metadata": {},
   "outputs": [
    {
     "name": "stdout",
     "output_type": "stream",
     "text": [
      "['t', 'h', 'i', 's', ' ']\n",
      "['i', 's', ' ', 'a', ' ']\n",
      "['s', 'h', 'o', 'r', 't']\n",
      "[' ', 't', 'e', 'x', 't']\n",
      "[' ', 'i', 'n', ' ', 'f']\n",
      "['o', 'r', 'm', ' ', 'o']\n",
      "['f', ' ', 'a', ' ', 'p']\n",
      "['y', 't', 'h', 'o', 'n']\n",
      "[' ', 's', 't', 'r', 'i']\n",
      "['n', 'g']\n"
     ]
    }
   ],
   "source": [
    "A='this is a short text in form of a python string'\n",
    "B=list(mit.chunked(A, 5)) #split into lists of max size 5\n",
    "\n",
    "for i in B: #iterate over the spitts \n",
    "    print(i)"
   ]
  },
  {
   "cell_type": "markdown",
   "metadata": {},
   "source": [
    "## Exercise: build a simple *Character Count* Algorithm based on the above *split, map* and *reduce* operators "
   ]
  },
  {
   "cell_type": "code",
   "execution_count": 53,
   "metadata": {},
   "outputs": [],
   "source": [
    "#some text from NYTimes\n",
    "text = ' Byron Spencer, handing out water and burgers to protesters outside Los Angeles City Hall, said he was both “elated and defeated” by word of the new charges. He said he had seen countless surges of outrage over police brutality against black men, only to have it happen again. “I’m 55, I’m black and I’m male — I’ve seen the cycle,” he said. “It’s almost like PTSD constantly having this conversation with my son.” Cierra Sesay reacted to the charges at a demonstration in the shadow of the State Capitol in Denver. “It’s amazing, it’s another box we can check,” she said. “But it goes up so much higher. It’s about the system.” In San Francisco, Tevita Tomasi — who is of Polynesian descent and described himself as “dark and tall and big” — said he regularly faced racial profiling, evidence of the bigger forces that must be overcome. On Wednesday, he distributed bottled water at what he said was his first demonstration, but one that would not be his last. What would stop him from protesting?'"
   ]
  },
  {
   "cell_type": "markdown",
   "metadata": {},
   "source": [
    "* HINT: use list pf *python* [dictionaries](https://docs.python.org/3/tutorial/datastructures.html#dictionaries) to store the character counts in the map\n",
    "* HINT 2: merge the dicts in reduce"
   ]
  },
  {
   "cell_type": "code",
   "execution_count": 54,
   "metadata": {},
   "outputs": [],
   "source": [
    "#map function\n",
    "def CharCount(char):\n",
    "    return {char:1} #this creates a dict wit a single entry"
   ]
  },
  {
   "cell_type": "code",
   "execution_count": 55,
   "metadata": {},
   "outputs": [
    {
     "name": "stdout",
     "output_type": "stream",
     "text": [
      "{'a': 1}\n",
      "{'a': 1}\n",
      "{'b': 1}\n"
     ]
    }
   ],
   "source": [
    "#test the count function\n",
    "\n",
    "print(CharCount('a'))\n",
    "print(CharCount('a'))\n",
    "print(CharCount('b'))\n"
   ]
  },
  {
   "cell_type": "code",
   "execution_count": 56,
   "metadata": {},
   "outputs": [],
   "source": [
    "#MAP\n",
    "#now run over the full text\n",
    "mapping=list(map(CharCount,text))"
   ]
  },
  {
   "cell_type": "code",
   "execution_count": 57,
   "metadata": {},
   "outputs": [
    {
     "data": {
      "text/plain": [
       "[{' ': 1},\n",
       " {'B': 1},\n",
       " {'y': 1},\n",
       " {'r': 1},\n",
       " {'o': 1},\n",
       " {'n': 1},\n",
       " {' ': 1},\n",
       " {'S': 1},\n",
       " {'p': 1},\n",
       " {'e': 1}]"
      ]
     },
     "execution_count": 57,
     "metadata": {},
     "output_type": "execute_result"
    }
   ],
   "source": [
    "mapping[:10]"
   ]
  },
  {
   "cell_type": "code",
   "execution_count": 60,
   "metadata": {},
   "outputs": [
    {
     "data": {
      "text/plain": [
       "'a'"
      ]
     },
     "execution_count": 60,
     "metadata": {},
     "output_type": "execute_result"
    }
   ],
   "source": [
    "t={'a':1}\n",
    "list(t.keys())[0]"
   ]
  },
  {
   "cell_type": "code",
   "execution_count": 61,
   "metadata": {},
   "outputs": [],
   "source": [
    "#reduce function\n",
    "def sumUp(a,b): #merge dictionaries - a:output b:single item to be merged\n",
    "    key = list(b.keys())[0] #get the only key in b \n",
    "    if key in a: #check if char is in a\n",
    "        a[key] += 1\n",
    "    else:\n",
    "        a[key] = 1\n",
    "    return a\n",
    "    "
   ]
  },
  {
   "cell_type": "code",
   "execution_count": 62,
   "metadata": {},
   "outputs": [
    {
     "data": {
      "text/plain": [
       "{' ': 176,\n",
       " 'B': 2,\n",
       " 'y': 13,\n",
       " 'r': 38,\n",
       " 'o': 52,\n",
       " 'n': 49,\n",
       " 'S': 5,\n",
       " 'p': 10,\n",
       " 'e': 89,\n",
       " 'c': 25,\n",
       " ',': 11,\n",
       " 'h': 39,\n",
       " 'a': 72,\n",
       " 'd': 36,\n",
       " 'i': 49,\n",
       " 'g': 19,\n",
       " 'u': 17,\n",
       " 't': 72,\n",
       " 'w': 13,\n",
       " 'b': 16,\n",
       " 's': 59,\n",
       " 'L': 1,\n",
       " 'A': 1,\n",
       " 'l': 28,\n",
       " 'C': 3,\n",
       " 'H': 2,\n",
       " '“': 6,\n",
       " 'f': 12,\n",
       " '”': 6,\n",
       " '.': 10,\n",
       " 'v': 9,\n",
       " 'k': 5,\n",
       " 'm': 18,\n",
       " 'I': 8,\n",
       " '’': 8,\n",
       " '5': 2,\n",
       " '—': 3,\n",
       " 'P': 2,\n",
       " 'T': 3,\n",
       " 'D': 2,\n",
       " 'z': 1,\n",
       " 'x': 1,\n",
       " 'F': 1,\n",
       " 'O': 1,\n",
       " 'W': 2,\n",
       " '?': 1}"
      ]
     },
     "execution_count": 62,
     "metadata": {},
     "output_type": "execute_result"
    }
   ],
   "source": [
    "#REDUCE\n",
    "functools.reduce(sumUp, mapping)\n"
   ]
  },
  {
   "cell_type": "code",
   "execution_count": null,
   "metadata": {},
   "outputs": [],
   "source": []
  }
 ],
 "metadata": {
  "kernelspec": {
   "display_name": "Python 3",
   "language": "python",
   "name": "python3"
  },
  "language_info": {
   "codemirror_mode": {
    "name": "ipython",
    "version": 3
   },
   "file_extension": ".py",
   "mimetype": "text/x-python",
   "name": "python",
   "nbconvert_exporter": "python",
   "pygments_lexer": "ipython3",
   "version": "3.7.6"
  }
 },
 "nbformat": 4,
 "nbformat_minor": 4
}
