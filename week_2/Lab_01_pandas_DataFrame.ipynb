{
  "cells": [
    {
      "cell_type": "markdown",
      "metadata": {
        "id": "yIZKhCTqw3qb"
      },
      "source": [
        "# DataFrame Object"
      ]
    },
    {
      "cell_type": "markdown",
      "metadata": {
        "id": "7bgoG4pCw3qg"
      },
      "source": [
        "DataFrame is the a main object in pandas.It is used to represent data with rows and columns(tabular or excel spreadshee like data)"
      ]
    },
    {
      "cell_type": "code",
      "execution_count": null,
      "metadata": {
        "id": "D07F7iSJw3qh"
      },
      "outputs": [],
      "source": [
        "#Imprting pandas module\n",
        "import pandas as pd"
      ]
    },
    {
      "cell_type": "code",
      "source": [
        "#get data from GitHub -> https://github.com/keuperj/DATA\n",
        "!git clone https://github.com/keuperj/DATA.git"
      ],
      "metadata": {
        "id": "oN1XPF2oxS7N"
      },
      "execution_count": null,
      "outputs": []
    },
    {
      "cell_type": "code",
      "execution_count": null,
      "metadata": {
        "scrolled": true,
        "id": "SOCpxpzUw3qi"
      },
      "outputs": [],
      "source": [
        "#we have seen how to read CSV or Excel data...\n",
        "d=pd.read_csv('DATA/weather.csv')\n",
        "#print dataframe \"d\"\n",
        "d.head()"
      ]
    },
    {
      "cell_type": "markdown",
      "metadata": {
        "id": "sI0s5yO6w3qj"
      },
      "source": [
        "### Creating DataFrames from NumPy Arrays\n",
        "* we can also create DataFrames from Arrays:"
      ]
    },
    {
      "cell_type": "code",
      "execution_count": null,
      "metadata": {
        "id": "i1iUS1HIw3qj"
      },
      "outputs": [],
      "source": [
        "import numpy as np\n",
        "# Creating a 2 dimensional numpy array\n",
        "data= np.array([[ 5.8,2.8], [ 6.0,2.2]])\n",
        "print(data)"
      ]
    },
    {
      "cell_type": "code",
      "execution_count": null,
      "metadata": {
        "id": "py5OTPMZw3qk"
      },
      "outputs": [],
      "source": [
        "#Creating pandas dataframe from numpy array\n",
        "dataset = pd.DataFrame({'Column1':data[:,0],'Column2':data[:,1]})\n",
        "print(dataset)"
      ]
    },
    {
      "cell_type": "markdown",
      "metadata": {
        "id": "DjFgoGp4w3ql"
      },
      "source": [
        "### Exporting  DataFrames to NumPy Arrays\n",
        "* we can also get an array from a DataFrame"
      ]
    },
    {
      "cell_type": "code",
      "execution_count": null,
      "metadata": {
        "id": "-gExViufw3qm"
      },
      "outputs": [],
      "source": [
        "dataset.values"
      ]
    },
    {
      "cell_type": "markdown",
      "metadata": {
        "id": "5YsP0h5Tw3qn"
      },
      "source": [
        "### Creating DataFrames with dictionaries\n",
        "  * You can also create DataFrame with python dsctionary very easily.\n",
        "  * You just need to call DataFrame() function and pass the disctionary as a argument in the function.\n",
        "  * <b>Note:</b> Notice one thing that i have taken all the columns of same length because you can not make dataframe object if your disctionary has variable column length"
      ]
    },
    {
      "cell_type": "code",
      "execution_count": null,
      "metadata": {
        "id": "2Zpmzonww3qo"
      },
      "outputs": [],
      "source": [
        "#Creatiing my own disctionary\n",
        "mydict={\n",
        "         'dates':['02-01-12','03-01-12','04-01-12','05-01-12','06-01-12'],\n",
        "         'day':['sunny','rainy','hot','sunny','hot'],\n",
        "         'wind-speed':[12,34,45,56,67],\n",
        "         'temp':[45,46,47,48,49]\n",
        "       }\n",
        "#Converting disction to dataframe object\n",
        "df=pd.DataFrame(mydict)\n",
        "\n",
        "#Printing the dataframe\n",
        "df"
      ]
    },
    {
      "cell_type": "markdown",
      "metadata": {
        "id": "eA88B78Qw3qp"
      },
      "source": [
        "### Shape of the dataframe\n",
        "  * <b>df.shape :</b> It will return a tuple (rows,columns)"
      ]
    },
    {
      "cell_type": "code",
      "execution_count": null,
      "metadata": {
        "id": "85AeJmKPw3qq"
      },
      "outputs": [],
      "source": [
        "df.shape"
      ]
    },
    {
      "cell_type": "markdown",
      "metadata": {
        "id": "1LtUoDR6w3qq"
      },
      "source": [
        "### Accessing columns :\n",
        " * What if you want to print only two columns"
      ]
    },
    {
      "cell_type": "code",
      "execution_count": null,
      "metadata": {
        "id": "i7sLX4Ncw3qq"
      },
      "outputs": [],
      "source": [
        "df[['day','temp']]"
      ]
    },
    {
      "cell_type": "markdown",
      "metadata": {
        "id": "wPKfRr3Lw3qr"
      },
      "source": [
        "### Statistics of your dataframe\n",
        " * You can see the statistics of your dataframe by calling describe() function\n",
        " * It will print count of the columns,mean,SD,min,max etc.."
      ]
    },
    {
      "cell_type": "code",
      "execution_count": null,
      "metadata": {
        "id": "6mZg4Mi0w3qr"
      },
      "outputs": [],
      "source": [
        "d.describe()"
      ]
    },
    {
      "cell_type": "markdown",
      "metadata": {
        "id": "cBEVIqtCw3qs"
      },
      "source": [
        "### Condition:\n",
        " * To get dataframe where temperature is greater than 9"
      ]
    },
    {
      "cell_type": "code",
      "execution_count": null,
      "metadata": {
        "id": "iwSadgOVw3qs"
      },
      "outputs": [],
      "source": [
        "d1=d[d['Temperature (C)']>9]\n",
        "d1"
      ]
    },
    {
      "cell_type": "code",
      "execution_count": null,
      "metadata": {
        "id": "z0uNUAGAw3qs"
      },
      "outputs": [],
      "source": [
        "#How many rows and columns are there in 'd1'?\n",
        "d1.shape"
      ]
    },
    {
      "cell_type": "markdown",
      "metadata": {
        "id": "qY9Q9V59w3qt"
      },
      "source": [
        "### Changing Index\n",
        " * Pandas has its own indexing by default from 0 to row no \n",
        " * We can also reset its index by set_index() function"
      ]
    },
    {
      "cell_type": "code",
      "execution_count": null,
      "metadata": {
        "id": "VW3RT0Fow3qt"
      },
      "outputs": [],
      "source": [
        "df.index"
      ]
    },
    {
      "cell_type": "code",
      "execution_count": null,
      "metadata": {
        "id": "wVV-FvtFw3qt"
      },
      "outputs": [],
      "source": [
        "df.set_index('dates',inplace=True)"
      ]
    },
    {
      "cell_type": "code",
      "execution_count": null,
      "metadata": {
        "id": "pYzsuSdDw3qt"
      },
      "outputs": [],
      "source": [
        "df.index"
      ]
    },
    {
      "cell_type": "code",
      "execution_count": null,
      "metadata": {
        "id": "sCrE6Mj8w3qu"
      },
      "outputs": [],
      "source": [
        "df"
      ]
    },
    {
      "cell_type": "markdown",
      "metadata": {
        "id": "JVdyn8prw3qu"
      },
      "source": [
        "#### Now we can find the specific value rows"
      ]
    },
    {
      "cell_type": "code",
      "execution_count": null,
      "metadata": {
        "id": "l2NzOkVJw3qu"
      },
      "outputs": [],
      "source": [
        "df.loc['02-01-12']"
      ]
    },
    {
      "cell_type": "code",
      "execution_count": null,
      "metadata": {
        "id": "pFFjU9EKw3qu"
      },
      "outputs": [],
      "source": [
        "df.iloc[4]"
      ]
    },
    {
      "cell_type": "code",
      "execution_count": null,
      "metadata": {
        "id": "0UDnspZew3qu"
      },
      "outputs": [],
      "source": [
        "df.iloc[0:3]"
      ]
    },
    {
      "cell_type": "code",
      "execution_count": null,
      "metadata": {
        "id": "A_P41QFmw3qv"
      },
      "outputs": [],
      "source": [
        "df.reset_index()"
      ]
    },
    {
      "cell_type": "code",
      "execution_count": null,
      "metadata": {
        "id": "vHsR5cgow3qv"
      },
      "outputs": [],
      "source": [
        ""
      ]
    }
  ],
  "metadata": {
    "kernelspec": {
      "display_name": "Python 3",
      "language": "python",
      "name": "python3"
    },
    "language_info": {
      "codemirror_mode": {
        "name": "ipython",
        "version": 3
      },
      "file_extension": ".py",
      "mimetype": "text/x-python",
      "name": "python",
      "nbconvert_exporter": "python",
      "pygments_lexer": "ipython3",
      "version": "3.7.6"
    },
    "colab": {
      "name": "Lab_01_pandas_DataFrame.ipynb",
      "provenance": []
    }
  },
  "nbformat": 4,
  "nbformat_minor": 0
}